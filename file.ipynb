{
 "cells": [
  {
   "cell_type": "code",
   "execution_count": 6,
   "id": "fbe09b89-a50a-4798-8599-1345189ae0f8",
   "metadata": {},
   "outputs": [
    {
     "ename": "SyntaxError",
     "evalue": "invalid syntax (3327250542.py, line 1)",
     "output_type": "error",
     "traceback": [
      "\u001b[0;36m  File \u001b[0;32m\"/tmp/ipykernel_91/3327250542.py\"\u001b[0;36m, line \u001b[0;32m1\u001b[0m\n\u001b[0;31m    pip install matplotlib\u001b[0m\n\u001b[0m              ^\u001b[0m\n\u001b[0;31mSyntaxError\u001b[0m\u001b[0;31m:\u001b[0m invalid syntax\n"
     ]
    }
   ],
   "source": [
    "pip install matplotlib\n"
   ]
  },
  {
   "cell_type": "code",
   "execution_count": 5,
   "id": "715d22c9-639e-40c4-b303-22bc9fea2a8e",
   "metadata": {},
   "outputs": [
    {
     "data": {
      "image/png": "[encoded data removed]",
      "text/plain": [
       "<Figure size 432x288 with 1 Axes>"
      ]
     },
     "metadata": {
      "needs_background": "light"
     },
     "output_type": "display_data"
    },
    {
     "name": "stdout",
     "output_type": "stream",
     "text": [
      "q equals to: 2.6\n",
      "M equals to: 0.6\n"
     ]
    },
    {
     "data": {
      "image/png": "[encoded data removed]",
      "text/plain": [
       "<Figure size 432x288 with 1 Axes>"
      ]
     },
     "metadata": {
      "needs_background": "light"
     },
     "output_type": "display_data"
    }
   ],
   "source": [
    "#guys \n",
    "import matplotlib.pyplot as plt\n",
    "import numpy as np\n",
    "#START COMMAND SECTION START COMMAND SECTION START COMMAND SECTION here you can manipulate the red line and the dots\n",
    "#here there is the controls of the slope of the red line (M) and the y intercept (q) which follow the equation y=M*x+q\n",
    "#note the red line isnt predicting its just tool that you can move around\n",
    "M=2\n",
    "q=0\n",
    "#here there is the controls of the y cordinates of the blue dots, the x cordinates are just 1,2,3,4....\n",
    "#you can put up to 6 values and they have to be <=10 and >=0 ( because then they will go out of the graph view)\n",
    "ythetha=[3,2,5,4]\n",
    "#END COMMAND SECTION END COMMAND SECTION END COMMAND SECTION the rest isn't made for being\n",
    "#modified but you are free to explore and modify if you want\n",
    "\n",
    "#here we plot the dots that you chose the y coordinate and the red line\n",
    "x=[x for x in range(len(ythetha))]\n",
    "y=[X*M+q for X in range(len(x))]\n",
    "plt.plot(x,ythetha,\"o\",markersize=\"10\",color=\"#2436E0\")\n",
    "plt.plot(x,y,color=\"#E50B0B\")\n",
    "plt.xlim([0,5])\n",
    "plt.ylim([0,10])\n",
    "plt.show()\n",
    "\n",
    "\n",
    "# mean_squared_error basically say you the average distance of a y coordinate of a point to your y coordinate of the red line\n",
    "def mean_squared_error(y):\n",
    "   \n",
    "    m=len(ythetha)\n",
    "    summation=0\n",
    "    for index in range(0,m):\n",
    "        summation+=(y[index]-ythetha[index])**2\n",
    "    return round(summation*(1/m*2),2)\n",
    "# here we are seeing whats the best slope for our line to fit all dots\n",
    "def gradient_descent():\n",
    "    lista=[]\n",
    "    for m in np.arange(-10,10,0.1):\n",
    "        y=[x*m for x in range(len(ythetha))]\n",
    "        lista.append(mean_squared_error(y))\n",
    "       \n",
    "    return lista\n",
    "lista=[]\n",
    "lista2=[]\n",
    "# here we see whats the best yee y intercept (q)\n",
    "for q in np.arange(-10,10,0.2):\n",
    "    for m in np.arange(-10,10,0.2):\n",
    "        y=[m*x+q for x in range(len(ythetha))]\n",
    "        lista.append(mean_squared_error(y))\n",
    "    lista2.append(min(lista))\n",
    "print(f\"q equals to: {round((lista2.index(min(lista2))*0.2)-10,2)}\")\n",
    "q=(lista2.index(min(lista2))*0.2)-10\n",
    "mlist=[]\n",
    "for i in ythetha:\n",
    "    mlist.append(i-q)\n",
    "lista=[]\n",
    "#here we see whats the best slope of the line\n",
    "for m in np.arange(-10,10,0.1):\n",
    "    y=[m*x for x in range(len(ythetha))]\n",
    "    summation=0\n",
    "    for index in range(0,len(ythetha)):\n",
    "        summation+=pow((y[index]-mlist[index]),2)\n",
    "  \n",
    "    c=round(summation*(1/len(ythetha)*2),2)\n",
    "    lista.append(c)\n",
    "#here we just make the  graph pretty and plot everything\n",
    "M=lista.index(min(lista))/10-10\n",
    "print(f\"M equals to: {round(M,2)}\")\n",
    "newy=[x*M+q for x in range(len(ythetha))]\n",
    "plt.plot(x,newy,linewidth=5,color=\"#23FF00\")\n",
    "plt.plot(x,ythetha,\"o\",markersize=\"10\",color=\"#2436E0\")\n",
    "plt.title(\"best line that fits all the dots:\")\n",
    "plt.xlim([0,5])\n",
    "plt.ylim([0,10])\n",
    "plt.show()"
   ]
  },
  {
   "cell_type": "code",
   "execution_count": null,
   "id": "72b57cbf-5b31-4c07-b8d2-4067217dd81d",
   "metadata": {},
   "outputs": [],
   "source": []
  }
 ],
 "metadata": {
  "kernelspec": {
   "display_name": "Python 3 (ipykernel)",
   "language": "python",
   "name": "python3"
  },
  "language_info": {
   "codemirror_mode": {
    "name": "ipython",
    "version": 3
   },
   "file_extension": ".py",
   "mimetype": "text/x-python",
   "name": "python",
   "nbconvert_exporter": "python",
   "pygments_lexer": "ipython3",
   "version": "3.7.10"
  }
 },
 "nbformat": 4,
 "nbformat_minor": 5
}
